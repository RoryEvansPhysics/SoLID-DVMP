{
 "cells": [
  {
   "cell_type": "markdown",
   "metadata": {
    "code_folding": [],
    "collapsed": true,
    "hide_input": false
   },
   "source": [
    "# Load Libs"
   ]
  },
  {
   "cell_type": "code",
   "execution_count": 1,
   "metadata": {
    "code_folding": [],
    "collapsed": false,
    "hide_input": false,
    "run_control": {
     "marked": false
    },
    "scrolled": false
   },
   "outputs": [
    {
     "name": "stderr",
     "output_type": "stream",
     "text": [
      "/Users/yez/Library/Python/2.7/lib/python/site-packages/IPython/kernel/__init__.py:13: ShimWarning: The `IPython.kernel` package has been deprecated. You should import from ipykernel or jupyter_client instead.\n",
      "  \"You should import from ipykernel or jupyter_client instead.\", ShimWarning)\n"
     ]
    },
    {
     "ename": "ROOTError",
     "evalue": "level=3000, loc='TMacOSXSystem::DynamicPathName', msg='libRooFit[.so | .dll | .dylib | .sl | .dl | .a] does not exist in /Users/yez/.cache/rootpy/x86_64-53434/dicts:/Users/yez/.cache/rootpy/x86_64-53434/modules:/usr/local/lib:/usr/lib:/usr/local/root/lib:/usr/local/gfortran/lib:/Users/yez/work/analyzer-1.5.31:/Users/yez/work/LHAPDF6/lib:/Users/yez/work/github/XEMC/SRC:/usr/local/root/lib:/usr/lib::.:$ROOTSYS/lib:/usr/local/root/cint/cint/stl'",
     "output_type": "error",
     "traceback": [
      "\u001b[0;31m---------------------------------------------------------------------------\u001b[0m",
      "\u001b[0;31mROOTError\u001b[0m                                 Traceback (most recent call last)",
      "\u001b[0;32m<ipython-input-1-ab75ae1bab40>\u001b[0m in \u001b[0;36m<module>\u001b[0;34m()\u001b[0m\n\u001b[1;32m     20\u001b[0m \u001b[0;32mimport\u001b[0m \u001b[0mROOT\u001b[0m\u001b[0;34m\u001b[0m\u001b[0m\n\u001b[1;32m     21\u001b[0m \u001b[0;32mfrom\u001b[0m \u001b[0mROOT\u001b[0m \u001b[0;32mimport\u001b[0m \u001b[0mgSystem\u001b[0m\u001b[0;34m\u001b[0m\u001b[0m\n\u001b[0;32m---> 22\u001b[0;31m \u001b[0mgSystem\u001b[0m\u001b[0;34m.\u001b[0m\u001b[0mLoad\u001b[0m\u001b[0;34m(\u001b[0m\u001b[0;34m'libRooFit'\u001b[0m\u001b[0;34m)\u001b[0m\u001b[0;34m\u001b[0m\u001b[0m\n\u001b[0m\u001b[1;32m     23\u001b[0m \u001b[0;34m\u001b[0m\u001b[0m\n\u001b[1;32m     24\u001b[0m \u001b[0;31m#import rootpy.plotting\u001b[0m\u001b[0;34m\u001b[0m\u001b[0;34m\u001b[0m\u001b[0m\n",
      "\u001b[0;32m<ipython-input-1-ab75ae1bab40>\u001b[0m in \u001b[0;36m<module>\u001b[0;34m()\u001b[0m\n\u001b[1;32m     20\u001b[0m \u001b[0;32mimport\u001b[0m \u001b[0mROOT\u001b[0m\u001b[0;34m\u001b[0m\u001b[0m\n\u001b[1;32m     21\u001b[0m \u001b[0;32mfrom\u001b[0m \u001b[0mROOT\u001b[0m \u001b[0;32mimport\u001b[0m \u001b[0mgSystem\u001b[0m\u001b[0;34m\u001b[0m\u001b[0m\n\u001b[0;32m---> 22\u001b[0;31m \u001b[0mgSystem\u001b[0m\u001b[0;34m.\u001b[0m\u001b[0mLoad\u001b[0m\u001b[0;34m(\u001b[0m\u001b[0;34m'libRooFit'\u001b[0m\u001b[0;34m)\u001b[0m\u001b[0;34m\u001b[0m\u001b[0m\n\u001b[0m\u001b[1;32m     23\u001b[0m \u001b[0;34m\u001b[0m\u001b[0m\n\u001b[1;32m     24\u001b[0m \u001b[0;31m#import rootpy.plotting\u001b[0m\u001b[0;34m\u001b[0m\u001b[0;34m\u001b[0m\u001b[0m\n",
      "\u001b[0;32m/usr/local/lib/python2.7/site-packages/rootpy/logger/magic.pyc\u001b[0m in \u001b[0;36mintercept_next_line\u001b[0;34m(f, why, *args)\u001b[0m\n\u001b[1;32m    245\u001b[0m         \u001b[0;32mif\u001b[0m \u001b[0msys\u001b[0m\u001b[0;34m.\u001b[0m\u001b[0mversion_info\u001b[0m\u001b[0;34m[\u001b[0m\u001b[0;36m0\u001b[0m\u001b[0;34m]\u001b[0m \u001b[0;34m<\u001b[0m \u001b[0;36m3\u001b[0m\u001b[0;34m:\u001b[0m\u001b[0;34m\u001b[0m\u001b[0m\n\u001b[1;32m    246\u001b[0m             \u001b[0;31m#raise exception.__class__, exception, traceback\u001b[0m\u001b[0;34m\u001b[0m\u001b[0;34m\u001b[0m\u001b[0m\n\u001b[0;32m--> 247\u001b[0;31m             \u001b[0;32mraise\u001b[0m \u001b[0mexception\u001b[0m\u001b[0;34m\u001b[0m\u001b[0m\n\u001b[0m\u001b[1;32m    248\u001b[0m         \u001b[0;32mraise\u001b[0m \u001b[0mexception\u001b[0m\u001b[0;34m.\u001b[0m\u001b[0mwith_traceback\u001b[0m\u001b[0;34m(\u001b[0m\u001b[0mtraceback\u001b[0m\u001b[0;34m)\u001b[0m\u001b[0;34m\u001b[0m\u001b[0m\n\u001b[1;32m    249\u001b[0m \u001b[0;34m\u001b[0m\u001b[0m\n",
      "\u001b[0;31mROOTError\u001b[0m: level=3000, loc='TMacOSXSystem::DynamicPathName', msg='libRooFit[.so | .dll | .dylib | .sl | .dl | .a] does not exist in /Users/yez/.cache/rootpy/x86_64-53434/dicts:/Users/yez/.cache/rootpy/x86_64-53434/modules:/usr/local/lib:/usr/lib:/usr/local/root/lib:/usr/local/gfortran/lib:/Users/yez/work/analyzer-1.5.31:/Users/yez/work/LHAPDF6/lib:/Users/yez/work/github/XEMC/SRC:/usr/local/root/lib:/usr/lib::.:$ROOTSYS/lib:/usr/local/root/cint/cint/stl'"
     ]
    }
   ],
   "source": [
    "### Load Python Lib##### \n",
    "########\n",
    "import numpy as np\n",
    "from math import *\n",
    "import matplotlib.pyplot as plt\n",
    "from random import gauss, randint\n",
    "from matplotlib import rc\n",
    "from matplotlib.ticker import FixedLocator, MultipleLocator, FormatStrFormatter\n",
    "import time\n",
    "from scipy.special import spence\n",
    "import scipy.optimize\n",
    "from scipy import stats\n",
    "import itertools\n",
    "import iminuit\n",
    "\n",
    "## ROOT\n",
    "from rootpy.tree import Tree, TreeModel, FloatCol, IntCol\n",
    "from rootpy.io import root_open\n",
    "from root_numpy import root2array, tree2array, list_branches,  rec2array, fill_hist,array2hist\n",
    "import ROOT\n",
    "from ROOT import gSystem\n",
    "gSystem.Load('libRooFit')\n",
    "\n",
    "#import rootpy.plotting\n",
    "from rootpy.extern.six.moves import range\n",
    "from rootpy.plotting import Hist, Hist2D, Hist3D, HistStack, Legend, Canvas\n",
    "from rootpy.interactive import wait\n",
    "from rootpy.plotting import root2matplotlib as rplt\n",
    "from rootpy.interactive import wait\n",
    "\n",
    "#very import to enable this so the plots can be showed in the page\n",
    "get_ipython().magic(u'matplotlib inline')\n",
    "\n",
    "# Use LaTeX font.\n",
    "plt.rc('text', usetex=True)\n",
    "plt.rc('font',**{'family':'serif','serif':['Computer Modern Roman'],'size':20})\n",
    "\n",
    "import matplotlib.font_manager as font_manager\n",
    "font_prop = font_manager.FontProperties(size=12)\n",
    "\n",
    "Deg2Rad = 3.1415926/180.0"
   ]
  },
  {
   "cell_type": "markdown",
   "metadata": {},
   "source": [
    "# Load MC Data from Root Tree"
   ]
  },
  {
   "cell_type": "markdown",
   "metadata": {},
   "source": [
    " ### Define ROOT Tree and Branches"
   ]
  },
  {
   "cell_type": "code",
   "execution_count": 3,
   "metadata": {
    "code_folding": [],
    "collapsed": false,
    "hide_input": true,
    "run_control": {
     "marked": true
    }
   },
   "outputs": [],
   "source": [
    "## Branches in the tree if need to create new one\n",
    "\n",
    "## Define all available variables here but only use ones needed\n",
    "class Event(TreeModel):\n",
    "    ## Kinematic Quantities\n",
    "    Epsilon = FloatCol() \n",
    "    Qsq= FloatCol()\n",
    "    t= FloatCol()\n",
    "    W= FloatCol()\n",
    "    x= FloatCol()\n",
    "    y= FloatCol()\n",
    "    z= FloatCol()\n",
    "    phi_h= FloatCol()\n",
    "    phi_S= FloatCol()\n",
    "    EventWeight= FloatCol()\n",
    "    weight= FloatCol()\n",
    "    dilute= FloatCol()\n",
    "#    PSF= FloatCol()\n",
    "#    MM= FloatCol()\n",
    "#    MM_res= FloatCol()\n",
    "    N_Total= IntCol()\n",
    "   \n",
    "    ## XS and Asymmetry\n",
    "    ZASigma_Lab= FloatCol()\n",
    "    ZASig_T= FloatCol()\n",
    "    ZASig_L= FloatCol()\n",
    "    ZASig_LT= FloatCol()\n",
    "    ZASig_TT= FloatCol()\n",
    "    SSAsym= FloatCol()\n",
    "    SineAsym= FloatCol()\n",
    "    \n",
    "    ## Electron Kine:\n",
    "#    ele_ene= FloatCol()\n",
    "#    ele_px= FloatCol()\n",
    "#    ele_py= FloatCol()\n",
    "#    ele_pz= FloatCol()\n",
    "#    ele_mom= FloatCol()\n",
    "#    ele_theta= FloatCol()\n",
    "#    ele_phi= FloatCol()\n",
    "    ## w/ detector resolution\n",
    "#    ele_mom_res = FloatCol()\n",
    "#    ele_theta_res = FloatCol()\n",
    "#    ele_phi_res = FloatCol() \n",
    "    \n",
    "    ## Pion Kine:\n",
    "#    pim_ene= FloatCol()\n",
    "#    pim_px= FloatCol()\n",
    "#    pim_py= FloatCol()\n",
    "#    pim_pz= FloatCol()\n",
    "#    pim_mom= FloatCol()\n",
    "#    pim_theta= FloatCol()\n",
    "#    pim_phi= FloatCol()   \n",
    "#    pim_mom_res= FloatCol()\n",
    "#    pim_theta_res= FloatCol()\n",
    "#    pim_phi_res= FloatCol()\n",
    "    \n",
    "    ## Recoil Proton Kine:\n",
    "#    pro_ene= FloatCol()\n",
    "#    pro_px= FloatCol()\n",
    "#    pro_py= FloatCol()\n",
    "#    pro_pz= FloatCol()\n",
    "#    pro_mom= FloatCol()\n",
    "#    pro_theta= FloatCol()\n",
    "#    pro_phi= FloatCol()\n",
    "    \n",
    "    ## Neutron Target Kine:\n",
    "#    tgt_px= FloatCol()\n",
    "#    tgt_py= FloatCol()\n",
    "#    tgt_pz= FloatCol()\n",
    "#    vertexz = FloatCol()\n",
    "    \n",
    "    ## Acceptance:\n",
    "    ele_acc_f = FloatCol()\n",
    "    ele_acc_l = FloatCol()\n",
    "    pim_acc_f = FloatCol()\n",
    "    pim_acc_l = FloatCol()\n",
    "    pro_acc_f = FloatCol()\n",
    "    pro_acc_l = FloatCol()\n",
    "    \n",
    "#    = FloatCol()\n",
    "#    = FloatCol()\n",
    "#    = FloatCol()"
   ]
  },
  {
   "cell_type": "markdown",
   "metadata": {},
   "source": [
    "### Load values from Tree"
   ]
  },
  {
   "cell_type": "code",
   "execution_count": 4,
   "metadata": {
    "collapsed": true
   },
   "outputs": [],
   "source": [
    "I = 3"
   ]
  },
  {
   "cell_type": "code",
   "execution_count": 5,
   "metadata": {
    "code_folding": [
     0
    ],
    "collapsed": false,
    "hide_input": false,
    "run_control": {
     "marked": true
    }
   },
   "outputs": [],
   "source": [
    "## Define Rootfiles\n",
    "filename=\"../rootfiles/dvmp_t%d.root\"%I\n",
    "file = root_open(filename,'r')\n",
    "T = file.T\n",
    "\n",
    "## \n",
    "branch_names = list_branches(filename, treename='T')\n",
    "array  = tree2array(T, branches=branch_names)\n",
    "\n",
    "x = array['x']\n",
    "t = array['t']\n",
    "W = array['W']\n",
    "Qsq = array['Qsq']\n",
    "Epsilon = array['Epsilon']\n",
    "\n",
    "SSAsym = array['SSAsym']\n",
    "SineAsym = array['SineAsym']\n",
    "ZASig_L = array['ZASig_L']\n",
    "ZASig_T = array['ZASig_T']\n",
    "ZASig_LT = array['ZASig_LT']\n",
    "ZASig_TT = array['ZASig_TT']\n",
    "ZASigma_Lab = array['ZASigma_Lab']\n",
    "\n",
    "dilute = array['dilute']\n",
    "weight = array['weight']\n",
    "EventWeight = array['EventWeight']\n",
    "phi_H = array['phi_h']\n",
    "phi_S = array['phi_S']\n",
    "\n",
    "ele_acc_l = array['ele_acc_l']\n",
    "ele_acc_f = array['ele_acc_f']\n",
    "pim_acc_l = array['pim_acc_l']\n",
    "pim_acc_f = array['pim_acc_f']\n",
    "pro_acc_l = array['pro_acc_l']\n",
    "pro_acc_f = array['pro_acc_f']\n",
    "\n",
    "for i in range(0,len(weight)):\n",
    "    weight[i] = EventWeight[i]*(ele_acc_l[i]+ele_acc_f[i])*pim_acc_f[i]*(pro_acc_l[i]+pro_acc_f[i])\n",
    "\n",
    "#x = array['x']"
   ]
  },
  {
   "cell_type": "markdown",
   "metadata": {},
   "source": [
    "# Asymmetry Fitting"
   ]
  },
  {
   "cell_type": "markdown",
   "metadata": {},
   "source": [
    "## Define some constants"
   ]
  },
  {
   "cell_type": "code",
   "execution_count": 6,
   "metadata": {
    "code_folding": [],
    "collapsed": false,
    "hide_input": false,
    "run_control": {
     "marked": false
    },
    "scrolled": false
   },
   "outputs": [
    {
     "name": "stdout",
     "output_type": "stream",
     "text": [
      "--- Average TSA for Bin#3 = -0.220872 +/-0.003636, from Evnt#=206366\n"
     ]
    }
   ],
   "source": [
    "## Constants\n",
    "time = 48 * 24 * 3600 * 1.0 #48days of 11 GeV beam time\n",
    "target_factor = 0.865 #Effective neutron polarization\n",
    "dilute_factor = 0.9 #should be one since it is exclude but give 0.9 for safty\n",
    "target_pol = 0.6  #60% polarization\n",
    "detector_eff = 0.85 #85% overall detector efficiency\n",
    "Norm_Fact = time * pow(target_factor*dilute_factor, 2) * detector_eff\n",
    "Nevnt = len(x)\n",
    "\n",
    "TSA = np.zeros(Nevnt, dtype=float)\n",
    "TSA_Bin = 0.0\n",
    "Weight_Sum= 0.0\n",
    "for i in range(0, Nevnt):\n",
    "    #TSA[i] = -1.0 * Epsilon[i] * ZASig_L[i]/(Epsilon[i]*ZASig_L[i]+ZASig_T[i]) * SSAsym[i]\n",
    "    TSA[i] = -1.0 * dilute[i] * SSAsym[i]\n",
    "\n",
    "    #weight[i] *= Norm_Fact\n",
    "    \n",
    "    TSA_Bin += TSA[i] * weight[i]\n",
    "    Weight_Sum += weight[i]\n",
    "TSA_Bin /= Weight_Sum\n",
    "\n",
    "N_out = Weight_Sum * Norm_Fact\n",
    "dTSA_Bin = 1./target_pol * sqrt(1 - pow(target_pol*TSA_Bin, 2))/sqrt(N_out)\n",
    "\n",
    "print '--- Average TSA for Bin#%d = %f +/-%f, from Evnt#=%d'%(I, TSA_Bin, dTSA_Bin, int(N_out))"
   ]
  },
  {
   "cell_type": "markdown",
   "metadata": {},
   "source": [
    "## ROOFIT"
   ]
  },
  {
   "cell_type": "code",
   "execution_count": 8,
   "metadata": {
    "collapsed": false
   },
   "outputs": [
    {
     "ename": "AttributeError",
     "evalue": "RooWorkspace",
     "output_type": "error",
     "traceback": [
      "\u001b[0;31m---------------------------------------------------------------------------\u001b[0m",
      "\u001b[0;31mAttributeError\u001b[0m                            Traceback (most recent call last)",
      "\u001b[0;32m<ipython-input-8-72ebe5465087>\u001b[0m in \u001b[0;36m<module>\u001b[0;34m()\u001b[0m\n\u001b[0;32m----> 1\u001b[0;31m \u001b[0mw\u001b[0m \u001b[0;34m=\u001b[0m \u001b[0mROOT\u001b[0m\u001b[0;34m.\u001b[0m\u001b[0mRooWorkspace\u001b[0m\u001b[0;34m(\u001b[0m\u001b[0;34m)\u001b[0m\u001b[0;34m\u001b[0m\u001b[0m\n\u001b[0m",
      "\u001b[0;32m/usr/local/root/lib/ROOT.pyc\u001b[0m in \u001b[0;36m__getattr2\u001b[0;34m(self, name)\u001b[0m\n\u001b[1;32m    484\u001b[0m \u001b[0;34m\u001b[0m\u001b[0m\n\u001b[1;32m    485\u001b[0m     \u001b[0;31m# lookup into ROOT (which may cause python-side enum/class/global creation)\u001b[0m\u001b[0;34m\u001b[0m\u001b[0;34m\u001b[0m\u001b[0m\n\u001b[0;32m--> 486\u001b[0;31m       \u001b[0mattr\u001b[0m \u001b[0;34m=\u001b[0m \u001b[0m_root\u001b[0m\u001b[0;34m.\u001b[0m\u001b[0mLookupRootEntity\u001b[0m\u001b[0;34m(\u001b[0m \u001b[0mname\u001b[0m \u001b[0;34m)\u001b[0m\u001b[0;34m\u001b[0m\u001b[0m\n\u001b[0m\u001b[1;32m    487\u001b[0m \u001b[0;34m\u001b[0m\u001b[0m\n\u001b[1;32m    488\u001b[0m     \u001b[0;31m# the call above will raise AttributeError as necessary; so if we get here,\u001b[0m\u001b[0;34m\u001b[0m\u001b[0;34m\u001b[0m\u001b[0m\n",
      "\u001b[0;31mAttributeError\u001b[0m: RooWorkspace"
     ]
    }
   ],
   "source": [
    "w = ROOT.RooWorkspace()"
   ]
  },
  {
   "cell_type": "markdown",
   "metadata": {
    "heading_collapsed": true
   },
   "source": [
    "## Do the Maximum-Likelihood Fit with Function-1:"
   ]
  },
  {
   "cell_type": "code",
   "execution_count": 27,
   "metadata": {
    "collapsed": true
   },
   "outputs": [],
   "source": [
    "##################################################################\n",
    "## define the asymmetry in terms of different angular modules\n",
    "#model=lambda p,phiS, phiH:p[0]*(1+p[1]*np.sin(3*phiS + phiH) )\n",
    "def TSA_Func(p, phi_S, phi_H):\n",
    "    model = p[0] * (1. + p[1]*np.sin(3.*phi_S + phi_H) )\n",
    "    #print '--Model = ', model\n",
    "    \n",
    "    return model\n",
    "##################################################################\n",
    "\n",
    "\n",
    "def like_model(parms):\n",
    "    L = 0.0\n",
    "    for phis in PHI_S:\n",
    "        for phih in PHI_H:\n",
    "            L+= np.log( TSA_Func(parms, phis, phih)/(2*np.pi*parms[0])  )\n",
    "    #print L\n",
    "    return -2.0*L"
   ]
  },
  {
   "cell_type": "code",
   "execution_count": 28,
   "metadata": {
    "collapsed": false
   },
   "outputs": [
    {
     "ename": "NameError",
     "evalue": "name 'model' is not defined",
     "output_type": "error",
     "traceback": [
      "\u001b[0;31m---------------------------------------------------------------------------\u001b[0m",
      "\u001b[0;31mNameError\u001b[0m                                 Traceback (most recent call last)",
      "\u001b[0;32m<ipython-input-28-45281a5f09f7>\u001b[0m in \u001b[0;36m<module>\u001b[0;34m()\u001b[0m\n\u001b[1;32m     12\u001b[0m \u001b[0;32mfor\u001b[0m \u001b[0mphiS\u001b[0m \u001b[0;32min\u001b[0m \u001b[0mphimidH\u001b[0m\u001b[0;34m:\u001b[0m\u001b[0;34m\u001b[0m\u001b[0m\n\u001b[1;32m     13\u001b[0m     \u001b[0;32mfor\u001b[0m \u001b[0mphiH\u001b[0m \u001b[0;32min\u001b[0m \u001b[0mphimidS\u001b[0m\u001b[0;34m:\u001b[0m\u001b[0;34m\u001b[0m\u001b[0m\n\u001b[0;32m---> 14\u001b[0;31m         \u001b[0mW\u001b[0m\u001b[0;34m.\u001b[0m\u001b[0mappend\u001b[0m\u001b[0;34m(\u001b[0m \u001b[0mmodel\u001b[0m\u001b[0;34m(\u001b[0m\u001b[0mp0\u001b[0m\u001b[0;34m,\u001b[0m\u001b[0mphiS\u001b[0m\u001b[0;34m,\u001b[0m \u001b[0mphiH\u001b[0m\u001b[0;34m)\u001b[0m\u001b[0;34m*\u001b[0m\u001b[0mdphi\u001b[0m\u001b[0;34m/\u001b[0m\u001b[0mnorm\u001b[0m\u001b[0;34m)\u001b[0m\u001b[0;34m\u001b[0m\u001b[0m\n\u001b[0m\u001b[1;32m     15\u001b[0m \u001b[0;34m\u001b[0m\u001b[0m\n\u001b[1;32m     16\u001b[0m \u001b[0mN\u001b[0m\u001b[0;34m=\u001b[0m\u001b[0mNevnt\u001b[0m \u001b[0;31m# extect number of events\u001b[0m\u001b[0;34m\u001b[0m\u001b[0m\n",
      "\u001b[0;31mNameError\u001b[0m: name 'model' is not defined"
     ]
    }
   ],
   "source": [
    "# step1: genereate events according to phi\n",
    "nbins=60\n",
    "grid=np.linspace(0,2*np.pi,nbins)\n",
    "dphi=grid[1]-grid[0]\n",
    "phimidS=0.5*(grid[:-1]+grid[1:])\n",
    "phimidH = phimidS\n",
    "\n",
    "p0=[1.0,TSA_Bin]\n",
    "norm=2*np.pi*p0[0]  # integral of model from 0 to 2pi\n",
    "\n",
    "W=[]\n",
    "for phiS in phimidH:\n",
    "    for phiH in phimidS:\n",
    "        W.append( model(p0,phiS, phiH)*dphi/norm)\n",
    "        \n",
    "N=Nevnt # extect number of events\n",
    "n=[int(w*N) for w in W]\n",
    "PHI_S=[]\n",
    "PHI_H=[]\n",
    "\n",
    "for i in range(nbins-1):\n",
    "    for j in range(nbins-1):\n",
    "        phi1 = np.random.uniform(grid[i],grid[i+1],n[i*(nbins-1)+j])\n",
    "        PHI_S=np.append(PHI_S, phi1)\n",
    "        phi2 = np.random.uniform(grid[j],grid[j+1],n[i*(nbins-1)+j])\n",
    "        PHI_H=np.append(PHI_H, phi2)\n",
    "PHI_S=np.array(PHI_S, dtype=float)\n",
    "PHI_H=np.array(PHI_H, dtype=float)\n",
    "\n",
    "# step2: construct nll\n",
    "#NLL=lambda p: -np.sum(np.log(model(p,PHI_S, PHI_H)/(2*np.pi*p[0])/(2*np.pi*p[0])))\n",
    "\n",
    "# step3: make fit \n",
    "guess=[1,0.01]\n",
    "# METH = 'L-BFGS-B'\n",
    "METH = 'Nelder-Mead'\n",
    "#METH = 'SLSQP'\n",
    "#METH ='Powell' \n",
    "#METH ='CG'\n",
    "#METH ='BFGS'\n",
    "#METH ='Newton-CG'\n",
    "#METH ='TNC'\n",
    "#METH ='COBYLA'\n",
    "res = scipy.optimize.minimize(like_model, guess, method=METH, jac=None, hess=None, tol=1e-6, callback=None, options={'disp':True})\n",
    "pfit=res.x\n",
    "print pfit\n"
   ]
  },
  {
   "cell_type": "code",
   "execution_count": 11,
   "metadata": {
    "collapsed": false
   },
   "outputs": [
    {
     "ename": "NameError",
     "evalue": "name 'NLL' is not defined",
     "output_type": "error",
     "traceback": [
      "\u001b[0;31m---------------------------------------------------------------------------\u001b[0m",
      "\u001b[0;31mNameError\u001b[0m                                 Traceback (most recent call last)",
      "\u001b[0;32m<ipython-input-11-adfaf660e05f>\u001b[0m in \u001b[0;36m<module>\u001b[0;34m()\u001b[0m\n\u001b[1;32m      1\u001b[0m \u001b[0miter\u001b[0m\u001b[0;34m=\u001b[0m\u001b[0;36m0\u001b[0m\u001b[0;34m\u001b[0m\u001b[0m\n\u001b[0;32m----> 2\u001b[0;31m \u001b[0mresults\u001b[0m\u001b[0;34m,\u001b[0m\u001b[0mcov\u001b[0m\u001b[0;34m,\u001b[0m\u001b[0minfodict\u001b[0m\u001b[0;34m,\u001b[0m\u001b[0mmesg\u001b[0m\u001b[0;34m,\u001b[0m\u001b[0mier\u001b[0m \u001b[0;34m=\u001b[0m \u001b[0mscipy\u001b[0m\u001b[0;34m.\u001b[0m\u001b[0moptimize\u001b[0m\u001b[0;34m.\u001b[0m\u001b[0mleastsq\u001b[0m\u001b[0;34m(\u001b[0m\u001b[0mNLL\u001b[0m\u001b[0;34m,\u001b[0m \u001b[0mguess\u001b[0m\u001b[0;34m,\u001b[0m \u001b[0mfull_output\u001b[0m\u001b[0;34m=\u001b[0m\u001b[0;36m1\u001b[0m\u001b[0;34m,\u001b[0m \u001b[0mftol\u001b[0m\u001b[0;34m=\u001b[0m\u001b[0;36m1e-6\u001b[0m\u001b[0;34m)\u001b[0m\u001b[0;34m\u001b[0m\u001b[0m\n\u001b[0m\u001b[1;32m      3\u001b[0m \u001b[0;34m\u001b[0m\u001b[0m\n\u001b[1;32m      4\u001b[0m \u001b[0mA_UU\u001b[0m \u001b[0;34m=\u001b[0m \u001b[0mresults\u001b[0m\u001b[0;34m[\u001b[0m\u001b[0;36m0\u001b[0m\u001b[0;34m]\u001b[0m\u001b[0;34m\u001b[0m\u001b[0m\n\u001b[1;32m      5\u001b[0m \u001b[0mA_UT\u001b[0m \u001b[0;34m=\u001b[0m \u001b[0mresults\u001b[0m\u001b[0;34m[\u001b[0m\u001b[0;36m1\u001b[0m\u001b[0;34m]\u001b[0m\u001b[0;34m\u001b[0m\u001b[0m\n",
      "\u001b[0;31mNameError\u001b[0m: name 'NLL' is not defined"
     ]
    }
   ],
   "source": [
    "iter=0\n",
    "results,cov,infodict,mesg,ier = scipy.optimize.leastsq(NLL, guess, full_output=1, ftol=1e-6)\n",
    "\n",
    "A_UU = results[0]\n",
    "A_UT = results[1]\n",
    "simga = -1.0\n",
    "chi2_AUT = (infodict['fvec'][0:]**2).sum()\n",
    "ndof = len(infodict['fvec'])\n",
    "\n",
    "if np.isinf(chi2_AUT) or np.isnan(chi2_AUT):\n",
    "    chi2_AUT= -1.0\n",
    "else:\n",
    "    sigma = cov[1][1]\n",
    "\n",
    "print \"I = %d, MKL: A_avg = %f,  A_fit = %f, A_UU = %f, Sigma=%f, chi2 = %f/%d\"%(I, TSA_Bin, A_UT, A_UU, sigma,chi2_AUT,ndof)\n"
   ]
  },
  {
   "cell_type": "code",
   "execution_count": null,
   "metadata": {
    "collapsed": true
   },
   "outputs": [],
   "source": []
  }
 ],
 "metadata": {
  "hide_input": false,
  "kernelspec": {
   "display_name": "Python 2",
   "language": "python",
   "name": "python2"
  },
  "language_info": {
   "codemirror_mode": {
    "name": "ipython",
    "version": 2
   },
   "file_extension": ".py",
   "mimetype": "text/x-python",
   "name": "python",
   "nbconvert_exporter": "python",
   "pygments_lexer": "ipython2",
   "version": "2.7.11"
  },
  "latex_envs": {
   "bibliofile": "biblio.bib",
   "cite_by": "apalike",
   "current_citInitial": 1,
   "eqLabelWithNumbers": true,
   "eqNumInitial": 0
  },
  "toc": {
   "toc_cell": false,
   "toc_number_sections": true,
   "toc_threshold": 6,
   "toc_window_display": false
  }
 },
 "nbformat": 4,
 "nbformat_minor": 0
}
