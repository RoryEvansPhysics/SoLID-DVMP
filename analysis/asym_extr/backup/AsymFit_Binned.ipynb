{
 "cells": [
  {
   "cell_type": "markdown",
   "metadata": {},
   "source": [
    "# Load Libs"
   ]
  },
  {
   "cell_type": "code",
   "execution_count": 1,
   "metadata": {
    "code_folding": [],
    "collapsed": false,
    "hide_input": true,
    "run_control": {
     "marked": true
    }
   },
   "outputs": [],
   "source": [
    "### Load Python Lib##### \n",
    "########\n",
    "import numpy as np\n",
    "from math import *\n",
    "import matplotlib.pyplot as plt\n",
    "from random import gauss, randint\n",
    "from matplotlib import rc\n",
    "from matplotlib.ticker import FixedLocator, MultipleLocator, FormatStrFormatter\n",
    "import time\n",
    "from scipy.special import spence\n",
    "import scipy.optimize\n",
    "from scipy import stats\n",
    "import itertools\n",
    "\n",
    "#very import to enable this so the plots can be showed in the page\n",
    "get_ipython().magic(u'matplotlib inline')\n",
    "\n",
    "# Use LaTeX font.\n",
    "plt.rc('text', usetex=True)\n",
    "plt.rc('font',**{'family':'serif','serif':['Computer Modern Roman'],'size':20})\n",
    "\n",
    "import matplotlib.font_manager as font_manager\n",
    "font_prop = font_manager.FontProperties(size=12)\n",
    "\n",
    "Deg2Rad = 3.1415926/180.0"
   ]
  },
  {
   "cell_type": "markdown",
   "metadata": {},
   "source": [
    "# Load MC Data"
   ]
  },
  {
   "cell_type": "code",
   "execution_count": 2,
   "metadata": {
    "code_folding": [
     0
    ],
    "collapsed": false,
    "hide_input": true,
    "run_control": {
     "marked": false
    }
   },
   "outputs": [],
   "source": [
    "### Loading the theoretical calculations\n",
    "filename1 = 'database/n_asym_0_fine12.dat'\n",
    "lines1 = open(filename1,'r').readlines()\n",
    "\n",
    "N = 7\n",
    "W = np.zeros(N, dtype=float)\n",
    "Q2 = np.zeros(N, dtype=float)\n",
    "x = np.zeros(N, dtype=float)\n",
    "t = np.zeros(N, dtype=float)\n",
    "Epsilon = np.zeros(N, dtype=float)\n",
    "R = np.zeros(N, dtype=float)\n",
    "F = np.zeros(N, dtype=float)     \n",
    "XS = np.zeros(N, dtype=float)  \n",
    "Asym= np.zeros(N, dtype=float)  \n",
    "Astat = np.zeros(N, dtype=float) \n",
    "N_out = np.zeros(N, dtype=float)   \n",
    "N_raw = np.zeros(N, dtype=float)   \n",
    "N_pim = np.zeros(N, dtype=float)   \n",
    "\n",
    "N1 = 12\n",
    "N2 = 12\n",
    "Bin = (N, N1, N2)\n",
    "PhiS = np.zeros(Bin, dtype=float)\n",
    "PhiH = np.zeros(Bin, dtype=float)\n",
    "Ncnt = np.zeros(Bin, dtype=float)\n",
    "Nstat = np.zeros(Bin, dtype=float)\n",
    "\n",
    "#BinS = np.zeros((N, N1), dtype=int)\n",
    "#BinH = np.zeros((N, N2), dtype=int)\n",
    "\n",
    "## Reading in each -t bin\n",
    "N_Bin =0\n",
    "Q2_avg = 0.0\n",
    "W_avg = 0.0\n",
    "for i in range(0, N):\n",
    "    values=lines1[N_Bin].split()\n",
    "    values = np.array(values,dtype=float)\n",
    "    Q2[i]=(values[1])\n",
    "    x[i]=(values[2])\n",
    "    W[i]=(values[3])\n",
    "    t[i]=(values[4])\n",
    "    Epsilon[i]=(values[5])\n",
    "    R[i]=(values[6])\n",
    "    F[i]=(values[7])\n",
    "    XS[i]=(values[8])\n",
    "    Asym[i]=(values[9])\n",
    "    Astat[i]=(values[10])\n",
    "    N_out[i]=(values[11])\n",
    "    N_raw[i]=(values[12])\n",
    "    \n",
    "    Q2_avg += Q2[i]\n",
    "    W_avg += W[i]\n",
    "    \n",
    "    ## Reading in Phi_S and Phi_h bins for each -t bin\n",
    "    for j in range(0, N1):\n",
    "        for k in range(0, N2):\n",
    "            N_phi = (N_Bin+1) + k + j*N2\n",
    "            values=lines1[N_phi].split()\n",
    "            values = np.array(values, dtype=float)\n",
    "                       \n",
    "            if j!=int(values[0]) or k!=int(values[1]):\n",
    "               print \"*** ERROR, j!=%d/%d, k!=%d/%d\"%(j, int(values[0]), k, int(values[1]))\n",
    "            \n",
    "            PhiS[i][j][k] = values[2] * Deg2Rad\n",
    "            PhiH[i][j][k] = values[3] * Deg2Rad\n",
    "            Ncnt[i][j][k] = values[4]\n",
    "            Nstat[i][j][k] = values[5]\n",
    "            #print \"i=%d: %d  %d  %12.4f  %12.4f  %12.4e  %12.4e\"%(i,j,k, PhiS[i][j][k]/Deg2Rad, PhiH[i][j][k]/Deg2Rad, Ncnt[i][j][k], Nstat[i][j][k])  \n",
    "    \n",
    "    N_Bin+=N1*N2 + 1\n",
    "    \n",
    "Q2_avg /= N\n",
    "W_avg /=N"
   ]
  },
  {
   "cell_type": "markdown",
   "metadata": {},
   "source": [
    "# Asymmetry Fitting"
   ]
  },
  {
   "cell_type": "markdown",
   "metadata": {},
   "source": [
    "## Load Data from one -t bin"
   ]
  },
  {
   "cell_type": "code",
   "execution_count": 3,
   "metadata": {
    "code_folding": [
     0
    ],
    "collapsed": false,
    "hide_input": false,
    "run_control": {
     "marked": true
    },
    "scrolled": false
   },
   "outputs": [],
   "source": [
    "## Load only one bin\n",
    "def LoadData(iii):\n",
    "    phi_S1 = np.zeros((N1,N2), dtype=float)\n",
    "    phi_H1 = np.zeros((N1,N2), dtype=float)\n",
    "    F_UT1 = np.zeros((N1,N2), dtype=float)\n",
    "    dF_UT1 = np.zeros((N1,N2), dtype=float)\n",
    "    F_UU1 = np.zeros((N1,N2), dtype=float)\n",
    "    F_UT_TEST1 = np.zeros((N1,N2), dtype=float)\n",
    "    for j in range(0, N1):\n",
    "        for k in range(0,N2):\n",
    "            phi_S1[j][k] = PhiS[iii][j][k]\n",
    "            phi_H1[j][k] = PhiH[iii][j][k]\n",
    "            #F_UT[j][k] = Ncnt[iii][j][k]\n",
    "            if Nstat[iii][j][k]<1.0:\n",
    "                F_UT1[j][k] = 0.0\n",
    "                dF_UT1[j][k] = 0.0\n",
    "            else:\n",
    "                F_UT1[j][k] = (Ncnt[iii][j][k])/Nstat[iii][j][k]\n",
    "            if Ncnt[iii][j][k]<1.0:\n",
    "                dF_UT1[j][k] = 0.0\n",
    "            else:\n",
    "                dF_UT1[j][k] = 1./sqrt(Ncnt[iii][j][k])\n",
    "\n",
    "            F_UU1[j][k] = Nstat[iii][j][k]\n",
    "            #dF_UT1[j][k] = 0.0000001\n",
    "        \n",
    "            F_UT_TEST1[j][k] = 1.0 + Asym[iii] * sin(3.0*phi_S1[j][k]+phi_H1[j][k])\n",
    "            #if j==2 and k==2:\n",
    "            #    print \"A_UT = %f / %f,  R = %f\"%(F_UT[j][k],F_UT_TEST[j][k],F_UT[j][k]/F_UT_TEST[j][k])\n",
    "    return phi_S1, phi_H1, F_UT1, dF_UT1"
   ]
  },
  {
   "cell_type": "markdown",
   "metadata": {},
   "source": [
    "## Using Maximum-Likelihood Fit"
   ]
  },
  {
   "cell_type": "markdown",
   "metadata": {},
   "source": [
    "### Fitting Function 1:"
   ]
  },
  {
   "cell_type": "code",
   "execution_count": 17,
   "metadata": {
    "code_folding": [],
    "collapsed": true
   },
   "outputs": [],
   "source": [
    " def likfunc1(parms):\n",
    "    a = parms[0]\n",
    "    b = parms[1]\n",
    "    sigma = parms[2]\n",
    "\n",
    "    Sum = 0 \n",
    "    asym_fit  = np.zeros(N1*N2, dtype=float)\n",
    "    asym_data = np.zeros(N1*N2, dtype=float)\n",
    "    N=0\n",
    "    for j in range(0, N1):\n",
    "        for k in range(0,N2):\n",
    "            #constant term corresponds to unpolarized XS, =1 if normalized\n",
    "            asym_fit[N]  = a+b * sin(3*phi_S[j][k] + phi_H[j][k]) ##A_UT^sin(3phi_H+phi_S)\n",
    "            asym_data[N] = F_UT[j][k]\n",
    "            Sum += ((asym_fit[N]-asym_data[N]))**2\n",
    "            N+=1\n",
    "              \n",
    "    #L = -0.5*(N*np.log(2*np.pi) + N*np.log(sigma**2) + Sum/sigma**2)\n",
    "    L = -0.5*np.sum( stats.norm.logpdf(asym_data, loc=asym_fit, scale=sigma ) )\n",
    "    \n",
    "    return L"
   ]
  },
  {
   "cell_type": "markdown",
   "metadata": {},
   "source": [
    "### Fitting Function 2:"
   ]
  },
  {
   "cell_type": "code",
   "execution_count": 18,
   "metadata": {
    "code_folding": [],
    "collapsed": false
   },
   "outputs": [],
   "source": [
    " def likfunc2(parms):\n",
    "    a = parms[0]\n",
    "    b = parms[1]\n",
    "\n",
    "    L = 0.0\n",
    "    for j in range(0, N1):\n",
    "        for k in range(0,N2):\n",
    "            #a=1\n",
    "            #constant term corresponds to unpolarized XS, =1 if normalized\n",
    "            asym  = a+(b * sin(3*phi_S[j][k] + phi_H[j][k])) ##A_UT^sin(3phi_H+phi_S)\n",
    "            L += np.log((asym/a))\n",
    "    L -= np.log(N1*N2*1.0)\n",
    "    L*=-1.0\n",
    "    \n",
    "    return L"
   ]
  },
  {
   "cell_type": "markdown",
   "metadata": {},
   "source": [
    "### Do the ML Fit:"
   ]
  },
  {
   "cell_type": "code",
   "execution_count": 28,
   "metadata": {
    "collapsed": true
   },
   "outputs": [],
   "source": [
    "I=5\n",
    "phi_S, phi_H, F_UT, dF_UT = LoadData(I)"
   ]
  },
  {
   "cell_type": "code",
   "execution_count": 29,
   "metadata": {
    "code_folding": [],
    "collapsed": false
   },
   "outputs": [
    {
     "name": "stdout",
     "output_type": "stream",
     "text": [
      "A_avg = -0.245690,  A_fit = -0.227606, A_UU = 0.999884, Sigma=0.074338\n"
     ]
    }
   ],
   "source": [
    "## Fitting\n",
    "lik_coeff=[1.0, Asym[I], 1.0]\n",
    "\n",
    "METH = 'L-BFGS-B'\n",
    "#METH = 'Nelder-Mead'\n",
    "#METH = 'SLSQP'\n",
    "lik_model = scipy.optimize.minimize(likfunc1, lik_coeff, method=METH,options={'disp': True})\n",
    "\n",
    "A_UU = lik_model['x'][0]\n",
    "A_UT = lik_model['x'][1]\n",
    "Sigma = lik_model['x'][2]\n",
    "\n",
    "print \"A_avg = %f,  A_fit = %f, A_UU = %f, Sigma=%f\"%(Asym[I], A_UT, A_UU, Sigma )"
   ]
  },
  {
   "cell_type": "code",
   "execution_count": null,
   "metadata": {
    "collapsed": true
   },
   "outputs": [],
   "source": []
  }
 ],
 "metadata": {
  "hide_input": false,
  "kernelspec": {
   "display_name": "Python 2",
   "language": "python",
   "name": "python2"
  },
  "language_info": {
   "codemirror_mode": {
    "name": "ipython",
    "version": 2
   },
   "file_extension": ".py",
   "mimetype": "text/x-python",
   "name": "python",
   "nbconvert_exporter": "python",
   "pygments_lexer": "ipython2",
   "version": "2.7.11"
  },
  "latex_envs": {
   "bibliofile": "biblio.bib",
   "cite_by": "apalike",
   "current_citInitial": 1,
   "eqLabelWithNumbers": true,
   "eqNumInitial": 0
  },
  "toc": {
   "toc_cell": false,
   "toc_number_sections": true,
   "toc_threshold": 6,
   "toc_window_display": false
  }
 },
 "nbformat": 4,
 "nbformat_minor": 0
}
