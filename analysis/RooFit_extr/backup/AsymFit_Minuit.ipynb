{
 "cells": [
  {
   "cell_type": "markdown",
   "metadata": {},
   "source": [
    "# Load Libs"
   ]
  },
  {
   "cell_type": "code",
   "execution_count": 17,
   "metadata": {
    "code_folding": [],
    "collapsed": false,
    "hide_input": false,
    "run_control": {
     "marked": true
    }
   },
   "outputs": [],
   "source": [
    "### Load Python Lib##### \n",
    "########\n",
    "import numpy as np\n",
    "from math import *\n",
    "import matplotlib.pyplot as plt\n",
    "from random import gauss, randint\n",
    "from matplotlib import rc\n",
    "from matplotlib.ticker import FixedLocator, MultipleLocator, FormatStrFormatter\n",
    "import time\n",
    "from scipy.special import spence\n",
    "import scipy.optimize\n",
    "from scipy import stats\n",
    "import itertools\n",
    "import iminuit\n",
    "#import probfit\n",
    "\n",
    "#very import to enable this so the plots can be showed in the page\n",
    "get_ipython().magic(u'matplotlib inline')\n",
    "\n",
    "# Use LaTeX font.\n",
    "plt.rc('text', usetex=True)\n",
    "plt.rc('font',**{'family':'serif','serif':['Computer Modern Roman'],'size':20})\n",
    "\n",
    "import matplotlib.font_manager as font_manager\n",
    "font_prop = font_manager.FontProperties(size=12)\n",
    "\n",
    "Deg2Rad = 3.1415926/180.0"
   ]
  },
  {
   "cell_type": "markdown",
   "metadata": {},
   "source": [
    "# Load MC Data"
   ]
  },
  {
   "cell_type": "code",
   "execution_count": 18,
   "metadata": {
    "code_folding": [
     0
    ],
    "collapsed": false,
    "hide_input": true,
    "run_control": {
     "marked": false
    }
   },
   "outputs": [],
   "source": [
    "### Loading the theoretical calculations\n",
    "filename1 = 'database/n_asym_0_fine12.dat'\n",
    "lines1 = open(filename1,'r').readlines()\n",
    "\n",
    "N = 7\n",
    "W = np.zeros(N, dtype=float)\n",
    "Q2 = np.zeros(N, dtype=float)\n",
    "x = np.zeros(N, dtype=float)\n",
    "t = np.zeros(N, dtype=float)\n",
    "Epsilon = np.zeros(N, dtype=float)\n",
    "R = np.zeros(N, dtype=float)\n",
    "F = np.zeros(N, dtype=float)     \n",
    "XS = np.zeros(N, dtype=float)  \n",
    "Asym= np.zeros(N, dtype=float)  \n",
    "Astat = np.zeros(N, dtype=float) \n",
    "N_out = np.zeros(N, dtype=float)   \n",
    "N_raw = np.zeros(N, dtype=float)   \n",
    "N_pim = np.zeros(N, dtype=float)   \n",
    "\n",
    "N1 = 12\n",
    "N2 = 12\n",
    "Bin = (N, N1, N2)\n",
    "PhiS = np.zeros(Bin, dtype=float)\n",
    "PhiH = np.zeros(Bin, dtype=float)\n",
    "Ncnt = np.zeros(Bin, dtype=float)\n",
    "Nstat = np.zeros(Bin, dtype=float)\n",
    "\n",
    "#BinS = np.zeros((N, N1), dtype=int)\n",
    "#BinH = np.zeros((N, N2), dtype=int)\n",
    "\n",
    "## Reading in each -t bin\n",
    "N_Bin =0\n",
    "Q2_avg = 0.0\n",
    "W_avg = 0.0\n",
    "for i in range(0, N):\n",
    "    values=lines1[N_Bin].split()\n",
    "    values = np.array(values,dtype=float)\n",
    "    Q2[i]=(values[1])\n",
    "    x[i]=(values[2])\n",
    "    W[i]=(values[3])\n",
    "    t[i]=(values[4])\n",
    "    Epsilon[i]=(values[5])\n",
    "    R[i]=(values[6])\n",
    "    F[i]=(values[7])\n",
    "    XS[i]=(values[8])\n",
    "    Asym[i]=(values[9])\n",
    "    Astat[i]=(values[10])\n",
    "    N_out[i]=(values[11])\n",
    "    N_raw[i]=(values[12])\n",
    "    \n",
    "    Q2_avg += Q2[i]\n",
    "    W_avg += W[i]\n",
    "    \n",
    "    ## Reading in Phi_S and Phi_h bins for each -t bin\n",
    "    for j in range(0, N1):\n",
    "        for k in range(0, N2):\n",
    "            N_phi = (N_Bin+1) + k + j*N2\n",
    "            values=lines1[N_phi].split()\n",
    "            values = np.array(values, dtype=float)\n",
    "                       \n",
    "            if j!=int(values[0]) or k!=int(values[1]):\n",
    "               print \"*** ERROR, j!=%d/%d, k!=%d/%d\"%(j, int(values[0]), k, int(values[1]))\n",
    "            \n",
    "            PhiS[i][j][k] = values[2] * Deg2Rad\n",
    "            PhiH[i][j][k] = values[3] * Deg2Rad\n",
    "            Ncnt[i][j][k] = values[4]\n",
    "            Nstat[i][j][k] = values[5]\n",
    "            #print \"i=%d: %d  %d  %12.4f  %12.4f  %12.4e  %12.4e\"%(i,j,k, PhiS[i][j][k]/Deg2Rad, PhiH[i][j][k]/Deg2Rad, Ncnt[i][j][k], Nstat[i][j][k])  \n",
    "    \n",
    "    N_Bin+=N1*N2 + 1\n",
    "    \n",
    "Q2_avg /= N\n",
    "W_avg /=N"
   ]
  },
  {
   "cell_type": "markdown",
   "metadata": {},
   "source": [
    "# Asymmetry Fitting"
   ]
  },
  {
   "cell_type": "markdown",
   "metadata": {},
   "source": [
    "## Load Data from one -t bin"
   ]
  },
  {
   "cell_type": "code",
   "execution_count": 19,
   "metadata": {
    "code_folding": [],
    "collapsed": false,
    "hide_input": false,
    "run_control": {
     "marked": true
    },
    "scrolled": false
   },
   "outputs": [],
   "source": [
    "## Load only one bin\n",
    "def LoadData(iii):\n",
    "    phi_S1 = np.zeros(N1*N2, dtype=float)\n",
    "    phi_H1 = np.zeros(N1*N2, dtype=float)\n",
    "    F_UT1 = np.zeros(N1*N2, dtype=float)\n",
    "    dF_UT1 = np.zeros(N1*N2, dtype=float)\n",
    "    #Ncnt1 = np.zeros(N1*N2, dtype=int)\n",
    "\n",
    "    #F_UU1 = np.zeros(N1*N2, dtype=float)\n",
    "    #F_UT_TEST1 = np.zeros(N1*N2, dtype=float)\n",
    "    \n",
    "    phi1 = np.zeros((N1*N2,2), dtype=float)\n",
    "    i=0\n",
    "    for j in range(0, N1):\n",
    "        for k in range(0,N2):\n",
    "            phi_S1[i] = PhiS[iii][j][k]\n",
    "            phi_H1[i] = PhiH[iii][j][k]\n",
    "            \n",
    "            phi1[i] = [phi_S1[i], phi_H1[i]]\n",
    "            \n",
    "            #F_UT[i] = Ncnt[iii][j][k]\n",
    "            if Nstat[iii][j][k]<1.0:\n",
    "                F_UT1[i] = 0.0\n",
    "                dF_UT1[i] = 0.0\n",
    "            else:\n",
    "                F_UT1[i] = (Ncnt[iii][j][k])/Nstat[iii][j][k]\n",
    "            if Ncnt[iii][j][k]<1.0:\n",
    "                dF_UT1[i] = 0.0\n",
    "            else:\n",
    "                dF_UT1[i] = 1./sqrt(Ncnt[iii][j][k])\n",
    "            \n",
    "            #Ncnt[i] = Ncnt[iii][j][k]\n",
    "\n",
    "            #F_UU1[i] = Nstat[iii][j][k]\n",
    "            #F_UT_TEST1[i] = 1.0 + Asym[iii] * sin(3.0*phi_S1[j][k]+phi_H1[j][k])\n",
    "            #if j==2 and k==2:\n",
    "            #    print \"A_UT = %f / %f,  R = %f\"%(F_UT[j][k],F_UT_TEST[j][k],F_UT[j][k]/F_UT_TEST[j][k])\n",
    "            \n",
    "            i+=1\n",
    "            \n",
    "    return phi_S1, phi_H1, phi1, F_UT1, dF_UT1"
   ]
  },
  {
   "cell_type": "markdown",
   "metadata": {},
   "source": [
    "## Using Maximum-Likelihood Fit"
   ]
  },
  {
   "cell_type": "markdown",
   "metadata": {},
   "source": [
    "### Fitting Function 1:"
   ]
  },
  {
   "cell_type": "code",
   "execution_count": 20,
   "metadata": {
    "code_folding": [],
    "collapsed": true
   },
   "outputs": [],
   "source": [
    "def asym(phi, a, b):\n",
    "        phi1 = phi[0]\n",
    "        phi2 = phi[1]\n",
    "        return a + b*sin(3.0*phi1 + phi2)\n",
    "\n",
    "def func(phi_s, phi_h, a, b):\n",
    "        return a + b*sin(3.0*phi_s + phi_h)"
   ]
  },
  {
   "cell_type": "code",
   "execution_count": 21,
   "metadata": {
    "collapsed": false
   },
   "outputs": [],
   "source": [
    "def chi2func(a,b):\n",
    "    chi2 = 0.0\n",
    "    for i in range(0, len(phi_S)):\n",
    "        model = func(phi_S[i], phi_H[i], a, b)\n",
    "        err = (model - F_UT[i])/dF_UT[i]\n",
    "        chi2 += err**2\n",
    "    \n",
    "    return chi2\n",
    "    "
   ]
  },
  {
   "cell_type": "code",
   "execution_count": 74,
   "metadata": {
    "collapsed": false
   },
   "outputs": [],
   "source": [
    "def likfunc(a,b):\n",
    "    L = 0.0\n",
    "    for i in range(0, len(phi_S)):\n",
    "        \n",
    "        #phi_S_Bin = np.random.uniform(phi_S[i]-15.0, phi_S[i]+15.0, N[i])\n",
    "        #phi_H_Bin = np.random.uniform(phi_H[i]-15.0, phi_H[i]+15.0, N[i])\n",
    "        model = func(phi_S_Bin[i], phi_H_Bin[i], a, b)\n",
    "        #model = np.array([func(phi_S_Bin[j], phi_H_Bin[j], a, b) for j in range(N[i])])\n",
    "        pdf = model**N[i]*np.exp(-model)/np.prod\n",
    "        L += (np.log(pdf))\n",
    "    \n",
    "    return L"
   ]
  },
  {
   "cell_type": "markdown",
   "metadata": {},
   "source": [
    "### Do the TMinuit Fit:"
   ]
  },
  {
   "cell_type": "code",
   "execution_count": 75,
   "metadata": {
    "collapsed": false
   },
   "outputs": [],
   "source": [
    "I=3\n",
    "phi_S, phi_H, phi_SH, F_UT, dF_UT = LoadData(I)\n",
    "N = (1./(dF_UT**2))\n",
    "N = np.array(N, dtype=int)"
   ]
  },
  {
   "cell_type": "code",
   "execution_count": 76,
   "metadata": {
    "collapsed": false
   },
   "outputs": [
    {
     "name": "stdout",
     "output_type": "stream",
     "text": [
      "-- Input: a = 1.0, b = -0.236200+/- 0.007060\n"
     ]
    },
    {
     "name": "stderr",
     "output_type": "stream",
     "text": [
      "/Users/yez/Library/Python/2.7/lib/python/site-packages/ipykernel/__main__.py:3: InitialParamWarning: errordef is not given. Default to 1.\n",
      "  app.launch_new_instance()\n",
      "/Users/yez/Library/Python/2.7/lib/python/site-packages/ipykernel/__main__.py:9: RuntimeWarning: invalid value encountered in log\n",
      "/Users/yez/Library/Python/2.7/lib/python/site-packages/ipykernel/__main__.py:5: RuntimeWarning: fcn returns Nan\n",
      "fcn is called with following arguments:\n",
      "    a = -7236209.623544\n",
      "    b = +102104772.513936\n",
      "\n",
      "/Users/yez/Library/Python/2.7/lib/python/site-packages/ipykernel/__main__.py:5: RuntimeWarning: fcn returns Nan\n",
      "fcn is called with following arguments:\n",
      "    a = nan\n",
      "    b = nan\n",
      "\n",
      "/Users/yez/Library/Python/2.7/lib/python/site-packages/ipykernel/__main__.py:5: RuntimeWarning: fcn returns Nan\n",
      "fcn is called with following arguments:\n",
      "    a = +8.428711\n",
      "    b = -663654627.796356\n",
      "\n"
     ]
    },
    {
     "data": {
      "text/html": [
       "<hr>"
      ]
     },
     "metadata": {},
     "output_type": "display_data"
    },
    {
     "data": {
      "text/html": [
       "\n",
       "        <table>\n",
       "            <tr>\n",
       "                <td title=\"Minimum value of function\">FCN = -844.303603869</td>\n",
       "                <td title=\"Total number of call to FCN so far\">TOTAL NCALL = 65</td>\n",
       "                <td title=\"Number of call in last migrad\">NCALLS = 65</td>\n",
       "            </tr>\n",
       "            <tr>\n",
       "                <td title=\"Estimated distance to minimum\">EDM = 2.67876188456e+20</td>\n",
       "                <td title=\"Maximum EDM definition of convergence\">GOAL EDM = 5e-06</td>\n",
       "                <td title=\"Error def. Amount of increase in FCN to be defined as 1 standard deviation\">\n",
       "                UP = 0.5</td>\n",
       "            </tr>\n",
       "        </table>\n",
       "        \n",
       "        <table>\n",
       "            <tr>\n",
       "                <td align=\"center\" title=\"Validity of the migrad call\">Valid</td>\n",
       "                <td align=\"center\" title=\"Validity of parameters\">Valid Param</td>\n",
       "                <td align=\"center\" title=\"Is Covariance matrix accurate?\">Accurate Covar</td>\n",
       "                <td align=\"center\" title=\"Positive definiteness of covariance matrix\">PosDef</td>\n",
       "                <td align=\"center\" title=\"Was covariance matrix made posdef by adding diagonal element\">Made PosDef</td>\n",
       "            </tr>\n",
       "            <tr>\n",
       "                <td align=\"center\" style=\"background-color:#FF7878\">False</td>\n",
       "                <td align=\"center\" style=\"background-color:#92CCA6\">True</td>\n",
       "                <td align=\"center\" style=\"background-color:#FF7878\">False</td>\n",
       "                <td align=\"center\" style=\"background-color:#FF7878\">False</td>\n",
       "                <td align=\"center\" style=\"background-color:#FF7878\">True</td>\n",
       "            </tr>\n",
       "            <tr>\n",
       "                <td align=\"center\" title=\"Was last hesse call fail?\">Hesse Fail</td>\n",
       "                <td align=\"center\" title=\"Validity of covariance\">HasCov</td>\n",
       "                <td align=\"center\" title=\"Is EDM above goal EDM?\">Above EDM</td>\n",
       "                <td align=\"center\"></td>\n",
       "                <td align=\"center\" title=\"Did last migrad call reach max call limit?\">Reach calllim</td>\n",
       "            </tr>\n",
       "            <tr>\n",
       "                <td align=\"center\" style=\"background-color:#92CCA6\">False</td>\n",
       "                <td align=\"center\" style=\"background-color:#92CCA6\">True</td>\n",
       "                <td align=\"center\" style=\"background-color:#FF7878\">True</td>\n",
       "                <td align=\"center\"></td>\n",
       "                <td align=\"center\" style=\"background-color:#92CCA6\">False</td>\n",
       "            </tr>\n",
       "        </table>\n",
       "        "
      ]
     },
     "metadata": {},
     "output_type": "display_data"
    },
    {
     "data": {
      "text/html": [
       "\n",
       "        <table>\n",
       "            <tr>\n",
       "                <td><a href=\"#\" onclick=\"$('#jCTCAVCtPR').toggle()\">+</a></td>\n",
       "                <td title=\"Variable name\">Name</td>\n",
       "                <td title=\"Value of parameter\">Value</td>\n",
       "                <td title=\"Parabolic error\">Parab Error</td>\n",
       "                <td title=\"Minos lower error\">Minos Error-</td>\n",
       "                <td title=\"Minos upper error\">Minos Error+</td>\n",
       "                <td title=\"Lower limit of the parameter\">Limit-</td>\n",
       "                <td title=\"Upper limit of the parameter\">Limit+</td>\n",
       "                <td title=\"Is the parameter fixed in the fit\">FIXED</td>\n",
       "            </tr>\n",
       "        \n",
       "            <tr>\n",
       "                <td>1</td>\n",
       "                <td>a</td>\n",
       "                <td>1</td>\n",
       "                <td>3.21267e-10</td>\n",
       "                <td>0</td>\n",
       "                <td>0</td>\n",
       "                <td></td>\n",
       "                <td></td>\n",
       "                <td></td>\n",
       "            </tr>\n",
       "            \n",
       "            <tr>\n",
       "                <td>2</td>\n",
       "                <td>b</td>\n",
       "                <td>-0.2362</td>\n",
       "                <td>0.0286721</td>\n",
       "                <td>0</td>\n",
       "                <td>0</td>\n",
       "                <td></td>\n",
       "                <td></td>\n",
       "                <td></td>\n",
       "            </tr>\n",
       "            \n",
       "            </table>\n",
       "        \n",
       "            <pre id=\"jCTCAVCtPR\" style=\"display:none;\">\n",
       "            <textarea rows=\"10\" cols=\"50\" onclick=\"this.select()\" readonly>\\begin{tabular}{|c|r|r|r|r|r|r|r|c|}\n",
       "\\hline\n",
       " & Name & Value & Para Error & Error+ & Error- & Limit+ & Limit- & FIXED\\\\\n",
       "\\hline\n",
       "1 & a & 1.000e+00 & 3.213e-10 &  &  &  &  & \\\\\n",
       "\\hline\n",
       "2 & b & -2.362e-01 & 2.867e-02 &  &  &  &  & \\\\\n",
       "\\hline\n",
       "\\end{tabular}</textarea>\n",
       "            </pre>\n",
       "            "
      ]
     },
     "metadata": {},
     "output_type": "display_data"
    },
    {
     "data": {
      "text/html": [
       "<hr>"
      ]
     },
     "metadata": {},
     "output_type": "display_data"
    },
    {
     "data": {
      "text/html": [
       "\n",
       "            <table>\n",
       "                <tr>\n",
       "                    <td><a onclick=\"$('#pghnQBtqHF').toggle()\" href=\"#\">+</a></td>\n",
       "        \n",
       "            <td>\n",
       "            <div style=\"width:20px;position:relative; width: -moz-fit-content;\">\n",
       "            <div style=\"display:inline-block;-webkit-writing-mode:vertical-rl;-moz-writing-mode: vertical-rl;writing-mode: vertical-rl;\">\n",
       "            a\n",
       "            </div>\n",
       "            </div>\n",
       "            </td>\n",
       "            \n",
       "            <td>\n",
       "            <div style=\"width:20px;position:relative; width: -moz-fit-content;\">\n",
       "            <div style=\"display:inline-block;-webkit-writing-mode:vertical-rl;-moz-writing-mode: vertical-rl;writing-mode: vertical-rl;\">\n",
       "            b\n",
       "            </div>\n",
       "            </div>\n",
       "            </td>\n",
       "            \n",
       "                </tr>\n",
       "                \n",
       "            <tr>\n",
       "                <td>a</td>\n",
       "            \n",
       "                <td style=\"background-color:rgb(255,117,117)\">\n",
       "                1.00\n",
       "                </td>\n",
       "                \n",
       "                <td style=\"background-color:rgb(255,117,117)\">\n",
       "                -1.00\n",
       "                </td>\n",
       "                \n",
       "            </tr>\n",
       "            \n",
       "            <tr>\n",
       "                <td>b</td>\n",
       "            \n",
       "                <td style=\"background-color:rgb(255,117,117)\">\n",
       "                -1.00\n",
       "                </td>\n",
       "                \n",
       "                <td style=\"background-color:rgb(255,117,117)\">\n",
       "                1.00\n",
       "                </td>\n",
       "                \n",
       "            </tr>\n",
       "            </table>\n",
       "\n",
       "            <pre id=\"pghnQBtqHF\" style=\"display:none;\">\n",
       "            <textarea rows=\"13\" cols=\"50\" onclick=\"this.select()\" readonly>%\\usepackage[table]{xcolor} % include this for color\n",
       "%\\usepackage{rotating} % include this for rotate header\n",
       "%\\documentclass[xcolor=table]{beamer} % for beamer\n",
       "\\begin{tabular}{|c|c|c|}\n",
       "\\hline\n",
       "\\rotatebox{90}{} & \\rotatebox{90}{a} & \\rotatebox{90}{b}\\\\\n",
       "\\hline\n",
       "a & \\cellcolor[RGB]{255,117,117} 1.00 & \\cellcolor[RGB]{255,117,117} -1.00\\\\\n",
       "\\hline\n",
       "b & \\cellcolor[RGB]{255,117,117} -1.00 & \\cellcolor[RGB]{255,117,117} 1.00\\\\\n",
       "\\hline\n",
       "\\end{tabular}</textarea>\n",
       "            </pre>\n",
       "            "
      ]
     },
     "metadata": {},
     "output_type": "display_data"
    },
    {
     "name": "stdout",
     "output_type": "stream",
     "text": [
      "A = -0.236200 +/- 0.007060, Fit = -0.236200 +/-0.028672\n"
     ]
    }
   ],
   "source": [
    "## Do the minimization\n",
    "print '-- Input: a = 1.0, b = %f+/- %f'%(Asym[I], Astat[I])\n",
    "minuit = iminuit.Minuit(likfunc, a=1.0, b=Asym[I], error_a = 1e-3, error_b=1e-3) # see iminuit tutorial on how to give initial value/range/error\n",
    "minuit.errordef=0.5\n",
    "minuit.migrad() # MIGRAD is a very stable robust minimization method\n",
    "#minuit.hesse()\n",
    "#minuit.print_param()\n",
    "minuit.print_matrix()\n",
    "results = minuit.values\n",
    "errors = minuit.errors\n",
    "print \"A = %f +/- %f, Fit = %f +/-%f\"%(Asym[I], Astat[I], results['b'], errors['b'])"
   ]
  }
 ],
 "metadata": {
  "hide_input": false,
  "kernelspec": {
   "display_name": "Python 2",
   "language": "python",
   "name": "python2"
  },
  "language_info": {
   "codemirror_mode": {
    "name": "ipython",
    "version": 2
   },
   "file_extension": ".py",
   "mimetype": "text/x-python",
   "name": "python",
   "nbconvert_exporter": "python",
   "pygments_lexer": "ipython2",
   "version": "2.7.11"
  },
  "latex_envs": {
   "bibliofile": "biblio.bib",
   "cite_by": "apalike",
   "current_citInitial": 1,
   "eqLabelWithNumbers": true,
   "eqNumInitial": 0
  },
  "toc": {
   "toc_cell": false,
   "toc_number_sections": true,
   "toc_threshold": 6,
   "toc_window_display": false
  }
 },
 "nbformat": 4,
 "nbformat_minor": 0
}
