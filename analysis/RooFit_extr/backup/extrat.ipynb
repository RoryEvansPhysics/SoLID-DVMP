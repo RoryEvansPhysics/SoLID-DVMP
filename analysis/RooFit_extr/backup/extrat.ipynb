{
 "cells": [
  {
   "cell_type": "markdown",
   "metadata": {},
   "source": [
    "# Load Libs"
   ]
  },
  {
   "cell_type": "code",
   "execution_count": 1,
   "metadata": {
    "code_folding": [
     0
    ],
    "collapsed": false,
    "hide_input": false,
    "run_control": {
     "marked": true
    }
   },
   "outputs": [],
   "source": [
    "### Load Python Lib##### \n",
    "########\n",
    "import numpy as np\n",
    "from math import *\n",
    "import matplotlib.pyplot as plt\n",
    "from random import gauss, randint\n",
    "from matplotlib import rc\n",
    "from matplotlib.ticker import FixedLocator, MultipleLocator, FormatStrFormatter\n",
    "import time\n",
    "from scipy.special import spence\n",
    "import scipy.optimize\n",
    "from scipy import stats\n",
    "import itertools\n",
    "\n",
    "#very import to enable this so the plots can be showed in the page\n",
    "get_ipython().magic(u'matplotlib inline')\n",
    "\n",
    "# Use LaTeX font.\n",
    "plt.rc('text', usetex=True)\n",
    "plt.rc('font',**{'family':'serif','serif':['Computer Modern Roman'],'size':20})\n",
    "\n",
    "import matplotlib.font_manager as font_manager\n",
    "font_prop = font_manager.FontProperties(size=12)\n",
    "\n",
    "Deg2Rad = 3.1415926/180.0"
   ]
  },
  {
   "cell_type": "markdown",
   "metadata": {},
   "source": [
    "# Load MC Data"
   ]
  },
  {
   "cell_type": "code",
   "execution_count": 2,
   "metadata": {
    "code_folding": [
     0
    ],
    "collapsed": false,
    "hide_input": false,
    "run_control": {
     "marked": false
    }
   },
   "outputs": [],
   "source": [
    "### Loading the theoretical calculations\n",
    "filename1 = 'database/n_asym_0_fine12.dat'\n",
    "lines1 = open(filename1,'r').readlines()\n",
    "\n",
    "N = 7\n",
    "W = np.zeros(N, dtype=float)\n",
    "Q2 = np.zeros(N, dtype=float)\n",
    "x = np.zeros(N, dtype=float)\n",
    "t = np.zeros(N, dtype=float)\n",
    "Epsilon = np.zeros(N, dtype=float)\n",
    "R = np.zeros(N, dtype=float)\n",
    "F = np.zeros(N, dtype=float)     \n",
    "XS = np.zeros(N, dtype=float)  \n",
    "Asym= np.zeros(N, dtype=float)  \n",
    "Astat = np.zeros(N, dtype=float) \n",
    "N_out = np.zeros(N, dtype=float)   \n",
    "N_raw = np.zeros(N, dtype=float)   \n",
    "N_pim = np.zeros(N, dtype=float)   \n",
    "\n",
    "N1 = 12\n",
    "N2 = 12\n",
    "Bin = (N, N1, N2)\n",
    "PhiS = np.zeros(Bin, dtype=float)\n",
    "PhiH = np.zeros(Bin, dtype=float)\n",
    "Ncnt = np.zeros(Bin, dtype=float)\n",
    "Nstat = np.zeros(Bin, dtype=float)\n",
    "\n",
    "#BinS = np.zeros((N, N1), dtype=int)\n",
    "#BinH = np.zeros((N, N2), dtype=int)\n",
    "\n",
    "## Reading in each -t bin\n",
    "N_Bin =0\n",
    "Q2_avg = 0.0\n",
    "W_avg = 0.0\n",
    "for i in range(0, N):\n",
    "    values=lines1[N_Bin].split()\n",
    "    values = np.array(values,dtype=float)\n",
    "    Q2[i]=(values[1])\n",
    "    x[i]=(values[2])\n",
    "    W[i]=(values[3])\n",
    "    t[i]=(values[4])\n",
    "    Epsilon[i]=(values[5])\n",
    "    R[i]=(values[6])\n",
    "    F[i]=(values[7])\n",
    "    XS[i]=(values[8])\n",
    "    Asym[i]=(values[9])\n",
    "    Astat[i]=(values[10])\n",
    "    N_out[i]=(values[11])\n",
    "    N_raw[i]=(values[12])\n",
    "    \n",
    "    Q2_avg += Q2[i]\n",
    "    W_avg += W[i]\n",
    "    \n",
    "    ## Reading in Phi_S and Phi_h bins for each -t bin\n",
    "    for j in range(0, N1):\n",
    "        for k in range(0, N2):\n",
    "            N_phi = (N_Bin+1) + k + j*N2\n",
    "            values=lines1[N_phi].split()\n",
    "            values = np.array(values, dtype=float)\n",
    "                       \n",
    "            if j!=int(values[0]) or k!=int(values[1]):\n",
    "               print \"*** ERROR, j!=%d/%d, k!=%d/%d\"%(j, int(values[0]), k, int(values[1]))\n",
    "            \n",
    "            PhiS[i][j][k] = values[2] * Deg2Rad\n",
    "            PhiH[i][j][k] = values[3] * Deg2Rad\n",
    "            Ncnt[i][j][k] = values[4]\n",
    "            Nstat[i][j][k] = values[5]\n",
    "            #print \"i=%d: %d  %d  %12.4f  %12.4f  %12.4e  %12.4e\"%(i,j,k, PhiS[i][j][k]/Deg2Rad, PhiH[i][j][k]/Deg2Rad, Ncnt[i][j][k], Nstat[i][j][k])  \n",
    "    \n",
    "    N_Bin+=N1*N2 + 1\n",
    "    \n",
    "Q2_avg /= N\n",
    "W_avg /=N"
   ]
  },
  {
   "cell_type": "markdown",
   "metadata": {},
   "source": [
    "# Asymmetry Fitting"
   ]
  },
  {
   "cell_type": "markdown",
   "metadata": {},
   "source": [
    "## Load Data from one -t bin"
   ]
  },
  {
   "cell_type": "code",
   "execution_count": 3,
   "metadata": {
    "code_folding": [
     0
    ],
    "collapsed": false,
    "hide_input": false,
    "run_control": {
     "marked": true
    },
    "scrolled": false
   },
   "outputs": [],
   "source": [
    "## Load only one bin\n",
    "def LoadData(iii):\n",
    "    phi_S1 = np.zeros((N1,N2), dtype=float)\n",
    "    phi_H1 = np.zeros((N1,N2), dtype=float)\n",
    "    F_UT1 = np.zeros((N1,N2), dtype=float)\n",
    "    dF_UT1 = np.zeros((N1,N2), dtype=float)\n",
    "    F_UU1 = np.zeros((N1,N2), dtype=float)\n",
    "    F_UT_TEST1 = np.zeros((N1,N2), dtype=float)\n",
    "    for j in range(0, N1):\n",
    "        for k in range(0,N2):\n",
    "            phi_S1[j][k] = PhiS[iii][j][k]\n",
    "            phi_H1[j][k] = PhiH[iii][j][k]\n",
    "            #F_UT[j][k] = Ncnt[iii][j][k]\n",
    "            if Nstat[iii][j][k]<1.0:\n",
    "                F_UT1[j][k] = 0.0\n",
    "                dF_UT1[j][k] = 0.0\n",
    "            else:\n",
    "                F_UT1[j][k] = (Ncnt[iii][j][k])/Nstat[iii][j][k]\n",
    "            if Ncnt[iii][j][k]<1.0:\n",
    "                dF_UT1[j][k] = 0.0\n",
    "            else:\n",
    "                dF_UT1[j][k] = 1./sqrt(Ncnt[iii][j][k])\n",
    "\n",
    "            F_UU1[j][k] = Nstat[iii][j][k]\n",
    "            #dF_UT1[j][k] = 0.0000001\n",
    "        \n",
    "            F_UT_TEST1[j][k] = 1.0 + Asym[iii] * sin(3.0*phi_S1[j][k]+phi_H1[j][k])\n",
    "            #if j==2 and k==2:\n",
    "            #    print \"A_UT = %f / %f,  R = %f\"%(F_UT[j][k],F_UT_TEST[j][k],F_UT[j][k]/F_UT_TEST[j][k])\n",
    "    return phi_S1, phi_H1, F_UT1, dF_UT1"
   ]
  },
  {
   "cell_type": "markdown",
   "metadata": {
    "heading_collapsed": true
   },
   "source": [
    "## Using LeatSQ Fit"
   ]
  },
  {
   "cell_type": "markdown",
   "metadata": {},
   "source": [
    "### Fitting Function"
   ]
  },
  {
   "cell_type": "code",
   "execution_count": 21,
   "metadata": {
    "code_folding": [],
    "collapsed": false,
    "hide_input": false,
    "run_control": {
     "marked": true
    }
   },
   "outputs": [],
   "source": [
    "## Define fitting function by adding different angular modules and their asymmetries\n",
    "def func(parms):\n",
    "    global iter\n",
    "    res = []\n",
    "    a = parms[0]\n",
    "    b = parms[1]\n",
    "\n",
    "    chi2=0.0\n",
    "    for j in range(0, N1):\n",
    "        for k in range(0,N2):\n",
    "            #constant term corresponds to unpolarized XS, =1 if normalized\n",
    "            asym = a+(b * sin(3*phi_S[j][k] + phi_H[j][k])) ##A_UT^sin(3phi_H+phi_S)\n",
    "            err = (asym-F_UT[j][k])/dF_UT[j][k]\n",
    "            res.append(err)\n",
    "            chi2 += err*err \n",
    "            \n",
    "    iter += 1\n",
    "    return res"
   ]
  },
  {
   "cell_type": "markdown",
   "metadata": {},
   "source": [
    "### Do the LeastSQ fit:"
   ]
  },
  {
   "cell_type": "code",
   "execution_count": 22,
   "metadata": {
    "collapsed": true
   },
   "outputs": [],
   "source": [
    "I=3"
   ]
  },
  {
   "cell_type": "code",
   "execution_count": 23,
   "metadata": {
    "code_folding": [],
    "collapsed": false,
    "run_control": {
     "marked": true
    },
    "scrolled": true
   },
   "outputs": [
    {
     "name": "stdout",
     "output_type": "stream",
     "text": [
      "chi2 = 91.193706/144\n",
      "I=3, A_avg = -0.236200+/-0.007060,  A_fit = -0.209438, A_UU = 0.999427/1.000000\n"
     ]
    }
   ],
   "source": [
    "## Fitting\n",
    "ii=I\n",
    "phi_S, phi_H, F_UT, dF_UT = LoadData(ii)    \n",
    "\n",
    "coef_init = [1.0, Asym[ii]]\n",
    "#coef_init = Asym[ii]\n",
    "iter = 0\n",
    "tol=1e-6\n",
    "start=time.clock()\n",
    "results, cov, infodict, mesg, ier = scipy.optimize.leastsq(func, coef_init, full_output=1, ftol=tol)\n",
    "\n",
    "A_UU = results[0]\n",
    "A_UT = results[1]\n",
    "#A_UT = results[0]\n",
    "\n",
    "#vec = [1,0]\n",
    "#err_UT = \n",
    "dA_UT = 0.0\n",
    "dA_UU = 0.0\n",
    "chi2_AUT = (infodict['fvec'][0:]**2).sum()\n",
    "#chi2_AUU = (infodict['fvec'][N1*N2:N1*N2+1]**2).sum()\n",
    "ndof = len(infodict['fvec'])\n",
    "print \"chi2 = %f/%d\"%(chi2_AUT,ndof)\n",
    "\n",
    "print \"I=%d, A_avg = %f+/-%f,  A_fit = %f, A_UU = %f/%f\"%(ii, Asym[ii],Astat[ii], A_UT, A_UU, 1 )\n",
    "#print \"A = %f,  A_fit = %f\"%(Asym[I], A_UT )\n",
    "    \n",
    "#    return A_UT, dA_UT, A_UU, dA_UU, chi2_AUT, ndof"
   ]
  },
  {
   "cell_type": "code",
   "execution_count": 24,
   "metadata": {
    "collapsed": false
   },
   "outputs": [
    {
     "name": "stdout",
     "output_type": "stream",
     "text": [
      "[[  1.88690930e-05   4.75016065e-06]\n",
      " [  4.75016065e-06   3.78634000e-05]]\n"
     ]
    }
   ],
   "source": [
    "print cov"
   ]
  },
  {
   "cell_type": "markdown",
   "metadata": {},
   "source": [
    "## Using Maximum-Likelihood Fit"
   ]
  },
  {
   "cell_type": "code",
   "execution_count": 41,
   "metadata": {
    "collapsed": true
   },
   "outputs": [],
   "source": [
    "ii=4\n",
    "phi_S, phi_H, F_UT, dF_UT = LoadData(ii)   \n",
    "\n",
    "SUM = 0.0\n",
    "for j in range(0, N1):\n",
    "    for k in range(0,N2):    \n",
    "        SUM+= F_UT[j][k]"
   ]
  },
  {
   "cell_type": "code",
   "execution_count": 42,
   "metadata": {
    "collapsed": false
   },
   "outputs": [
    {
     "name": "stdout",
     "output_type": "stream",
     "text": [
      "143.694998936\n"
     ]
    }
   ],
   "source": [
    "print SUM"
   ]
  },
  {
   "cell_type": "markdown",
   "metadata": {},
   "source": [
    "### Fitting Function 1:"
   ]
  },
  {
   "cell_type": "code",
   "execution_count": 78,
   "metadata": {
    "code_folding": [],
    "collapsed": true
   },
   "outputs": [],
   "source": [
    " def likfunc1(parms):\n",
    "    a = parms[0]\n",
    "    b = parms[1]\n",
    "    sigma = parms[2]\n",
    "\n",
    "    asym_fit=np.zeros(N1*N2, dtype=float)\n",
    "    asym_data=np.zeros(N1*N2, dtype=float)\n",
    "    N=0\n",
    "    for j in range(0, N1):\n",
    "        for k in range(0,N2):\n",
    "            #constant term corresponds to unpolarized XS, =1 if normalized\n",
    "            asym_fit[N]  = a+(b * sin(3*phi_S[j][k] + phi_H[j][k])) ##A_UT^sin(3phi_H+phi_S)\n",
    "            asym_data[N] = F_UT[j][k]\n",
    "            N+=1            \n",
    "    L = -0.5*np.sum( stats.norm.logpdf(asym_fit, loc=asym_data, scale=sigma ) )\n",
    "    return L"
   ]
  },
  {
   "cell_type": "markdown",
   "metadata": {},
   "source": [
    "### Fitting Function 2:"
   ]
  },
  {
   "cell_type": "code",
   "execution_count": 79,
   "metadata": {
    "code_folding": [],
    "collapsed": false
   },
   "outputs": [],
   "source": [
    "def likfunc2(parms):\n",
    "    a = parms[0]\n",
    "    b = parms[1]\n",
    "    #sigma=parms[2]\n",
    "\n",
    "    L = 0\n",
    "    for j in range(0, N1):\n",
    "        for k in range(0,N2):\n",
    "            asym  = a+(b * sin(3*phi_S[j][k] + phi_H[j][k])) ##A_UT^sin(3phi_H+phi_S)\n",
    "            L += np.log((asym))\n",
    "    L -= np.log(N1*N2*SUM)\n",
    "    L*=-1.0\n",
    "    \n",
    "    return L"
   ]
  },
  {
   "cell_type": "markdown",
   "metadata": {},
   "source": [
    "### Do the ML Fit:"
   ]
  },
  {
   "cell_type": "code",
   "execution_count": 86,
   "metadata": {
    "code_folding": [],
    "collapsed": false
   },
   "outputs": [
    {
     "name": "stdout",
     "output_type": "stream",
     "text": [
      "A_avg = -0.236200,  A_fit = -0.220469, A_UU = 0.998034, Sigma=0.074277\n"
     ]
    }
   ],
   "source": [
    "## Fitting\n",
    "lik_coeff=[1.0, Asym[I], 1.0]\n",
    "\n",
    "METH = 'L-BFGS-B'\n",
    "#METH = 'Nelder-Mead'\n",
    "#METH = 'SLSQP'\n",
    "#METH ='Powell' \n",
    "#METH ='CG'\n",
    "#METH ='BFGS'\n",
    "#METH ='Newton-CG'\n",
    "#METH ='TNC'\n",
    "#METH ='COBYLA'\n",
    "\n",
    "lik_model = scipy.optimize.minimize(likfunc1, lik_coeff, method=METH, jac=None, hess=True, options={'disp': True})\n",
    "\n",
    "A_UU = lik_model['x'][0]\n",
    "A_UT = lik_model['x'][1]\n",
    "Sigma = lik_model['x'][2]\n",
    "\n",
    "print \"A_avg = %f,  A_fit = %f, A_UU = %f, Sigma=%f\"%(Asym[I], A_UT, A_UU, Sigma )"
   ]
  },
  {
   "cell_type": "code",
   "execution_count": 87,
   "metadata": {
    "collapsed": false
   },
   "outputs": [
    {
     "name": "stdout",
     "output_type": "stream",
     "text": [
      "      fun: nan\n",
      " hess_inv: <3x3 LbfgsInvHessProduct with dtype=float64>\n",
      "      jac: array([   1.98794226, -118.55496922,  595.66675645])\n",
      "  message: 'ABNORMAL_TERMINATION_IN_LNSRCH'\n",
      "     nfev: 104\n",
      "      nit: 1\n",
      "   status: 2\n",
      "  success: False\n",
      "        x: array([ 0.99803426, -0.22046916,  0.07427716])\n"
     ]
    }
   ],
   "source": [
    "print lik_model"
   ]
  },
  {
   "cell_type": "markdown",
   "metadata": {},
   "source": [
    "# Plotting"
   ]
  },
  {
   "cell_type": "markdown",
   "metadata": {},
   "source": [
    "## Load data into 1D"
   ]
  },
  {
   "cell_type": "code",
   "execution_count": 23,
   "metadata": {
    "code_folding": [],
    "collapsed": false,
    "hide_input": false
   },
   "outputs": [],
   "source": [
    "## Save two-D into one-D\n",
    "Angle  = np.zeros(N1*N2, dtype=float)\n",
    "A_Bin  = np.zeros(N1*N2, dtype=float)\n",
    "dA_Bin = np.zeros(N1*N2, dtype=float)\n",
    "Bin = np.zeros(N1*N2, dtype=int)\n",
    "l=0\n",
    "for j in range(0, N1):\n",
    "    for k in range(0,N2):\n",
    "        l = k+j*N1\n",
    "        Angle[l] = sin(3.0*phi_S[j][k] + phi_H[j][k])\n",
    "        A_Bin[l] = F_UT[j][k]\n",
    "        dA_Bin[l] = dF_UT[j][k]\n",
    "        Bin[l] = l\n"
   ]
  },
  {
   "cell_type": "markdown",
   "metadata": {},
   "source": [
    "## Asym vs. $\\phi_S$ or $\\phi_h$"
   ]
  },
  {
   "cell_type": "code",
   "execution_count": 24,
   "metadata": {
    "code_folding": [],
    "collapsed": false
   },
   "outputs": [
    {
     "name": "stderr",
     "output_type": "stream",
     "text": [
      "/usr/local/lib/python2.7/site-packages/matplotlib/axes/_axes.py:519: UserWarning: No labelled objects found. Use label='...' kwarg on individual plots.\n",
      "  warnings.warn(\"No labelled objects found. \"\n"
     ]
    },
    {
     "data": {
      "image/png": "[encoded data removed]",
      "text/plain": [
       "<matplotlib.figure.Figure at 0x10aea6e90>"
      ]
     },
     "metadata": {},
     "output_type": "display_data"
    }
   ],
   "source": [
    "f,axes1 = plt.subplots(1,1, sharex=True, figsize=(8, 6))\n",
    "f.subplots_adjust(bottom=0.1, top=0.9, hspace=0.02)\n",
    "\n",
    "# Subplot for Asym.\n",
    "axes1.plot(Bin, A_Bin, 'k-.', color='blue')\n",
    "axes1.errorbar(Bin, A_Bin, yerr=dA_Bin, fmt='o',color='red')\n",
    "\n",
    "axes1.set_xlabel('$<sin(3\\phi_S+\\phi_h>$)') # label, y-axis\n",
    "#axes1.set_xlim(0.05, 1.0)\n",
    "axes1.set_ylabel('$<A_{UT}>$') # label, y-axis\n",
    "#axes1.set_ylim(-0.35, 0.0)\n",
    "\n",
    "#axes1.text(0.8, -0.25, r'$<Q^{2}>=%3.2f~GeV^{2},<W>=%3.2f~GeV$'%(Q2_avg, W_avg))\n",
    "axes1.legend(bbox_to_anchor=(0.175, 1.0), loc=2, prop={'size':18},borderaxespad=0., numpoints=1)\n",
    "\n",
    "#plt.savefig('bin_asym_t%s_fermi_noFR.png'%(prd))\n",
    "#plt.savefig('bin_asym_t%s_fermi_noFR.pdf'%(prd))"
   ]
  },
  {
   "cell_type": "markdown",
   "metadata": {},
   "source": [
    "# Asym vs -t"
   ]
  },
  {
   "cell_type": "code",
   "execution_count": 25,
   "metadata": {
    "code_folding": [],
    "collapsed": false
   },
   "outputs": [
    {
     "data": {
      "text/plain": [
       "<matplotlib.legend.Legend at 0x10aea6490>"
      ]
     },
     "execution_count": 25,
     "metadata": {},
     "output_type": "execute_result"
    },
    {
     "data": {
      "image/png": "[encoded data removed]",
      "text/plain": [
       "<matplotlib.figure.Figure at 0x10b045910>"
      ]
     },
     "metadata": {},
     "output_type": "display_data"
    }
   ],
   "source": [
    "f,axes1 = plt.subplots(1,1, sharex=True, figsize=(8, 6))\n",
    "f.subplots_adjust(bottom=0.1, top=0.9, hspace=0.02)\n",
    "\n",
    "# Subplot for Asym.\n",
    "axes1.plot(t, Asym, 'k-.', color='blue')\n",
    "axes1.errorbar(t, Asym, yerr=Astat, fmt='o',color='red',label='$<Q^{2}>=%3.2f~GeV^{2},<W>=%3.2f~GeV$'%(Q2_avg, W_avg))\n",
    "\n",
    "axes1.set_xlabel('$<-t>~(GeV^{2}$)') # label, y-axis\n",
    "axes1.set_xlim(0.05, 1.0)\n",
    "axes1.set_ylabel('$<A_{UT}>$') # label, y-axis\n",
    "axes1.set_ylim(-0.35, 0.0)\n",
    "\n",
    "#axes1.text(0.8, -0.25, r'$<Q^{2}>=%3.2f~GeV^{2},<W>=%3.2f~GeV$'%(Q2_avg, W_avg))\n",
    "axes1.legend(bbox_to_anchor=(0.175, 1.0), loc=2, prop={'size':18},borderaxespad=0., numpoints=1)\n",
    "\n",
    "#plt.savefig('bin_asym_t%s_fermi_noFR.png'%(prd))\n",
    "#plt.savefig('bin_asym_t%s_fermi_noFR.pdf'%(prd))"
   ]
  },
  {
   "cell_type": "code",
   "execution_count": null,
   "metadata": {
    "collapsed": true
   },
   "outputs": [],
   "source": []
  }
 ],
 "metadata": {
  "hide_input": false,
  "kernelspec": {
   "display_name": "Python 2",
   "language": "python",
   "name": "python2"
  },
  "language_info": {
   "codemirror_mode": {
    "name": "ipython",
    "version": 2
   },
   "file_extension": ".py",
   "mimetype": "text/x-python",
   "name": "python",
   "nbconvert_exporter": "python",
   "pygments_lexer": "ipython2",
   "version": "2.7.11"
  },
  "latex_envs": {
   "bibliofile": "biblio.bib",
   "cite_by": "apalike",
   "current_citInitial": 1,
   "eqLabelWithNumbers": true,
   "eqNumInitial": 0
  },
  "toc": {
   "toc_cell": false,
   "toc_number_sections": true,
   "toc_threshold": 6,
   "toc_window_display": false
  }
 },
 "nbformat": 4,
 "nbformat_minor": 0
}
